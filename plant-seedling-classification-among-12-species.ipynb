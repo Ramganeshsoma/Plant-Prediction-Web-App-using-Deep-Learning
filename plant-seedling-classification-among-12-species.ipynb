{
 "cells": [
  {
   "cell_type": "markdown",
   "metadata": {},
   "source": [
    "# Plant Seedling Classification among 12 species\n",
    "#### The Plant Seedlings Dataset contains images of unique plants belonging to 12 species at several growth stages. It comprises annotated RGB images with a physical resolution of roughly 10 pixels per mm. The database have been recorded at Aarhus University Flakkebjerg Research station in a collaboration between University of Southern Denmark and Aarhus University.\n",
    "\n",
    "### This trained model has the Validation Accuracy of 86%."
   ]
  },
  {
   "cell_type": "markdown",
   "metadata": {},
   "source": [
    "# Importing all the required packages:"
   ]
  },
  {
   "cell_type": "code",
   "execution_count": 1,
   "metadata": {
    "_cell_guid": "b1076dfc-b9ad-4769-8c92-a6c4dae69d19",
    "_uuid": "8f2839f25d086af736a60e9eeb907d3b93b6e0e5"
   },
   "outputs": [
    {
     "name": "stdout",
     "output_type": "stream",
     "text": [
      "['nonsegmentedv2']\n"
     ]
    },
    {
     "name": "stderr",
     "output_type": "stream",
     "text": [
      "Using TensorFlow backend.\n"
     ]
    }
   ],
   "source": [
    "# This Python 3 environment comes with many helpful analytics libraries installed\n",
    "# It is defined by the kaggle/python docker image: https://github.com/kaggle/docker-python\n",
    "# For example, here's several helpful packages to load in \n",
    "\n",
    "import numpy as np # linear algebra\n",
    "import pandas as pd # data processing, CSV file I/O (e.g. pd.read_csv)\n",
    "\n",
    "# Input data files are available in the \"../input/\" directory.\n",
    "# For example, running this (by clicking run or pressing Shift+Enter) will list the files in the input directory\n",
    "\n",
    "import os\n",
    "print(os.listdir(\"../input\"))\n",
    "import cv2\n",
    "# set the matplotlib backend so figures can be saved in the background\n",
    "import matplotlib .pyplot as plt\n",
    "# import the necessary packages\n",
    "from sklearn.preprocessing import LabelBinarizer\n",
    "from sklearn.model_selection import train_test_split\n",
    "from sklearn.metrics import classification_report\n",
    "from keras.models import Sequential\n",
    "from keras.layers.core import Dense\n",
    "from keras.optimizers import Adam\n",
    "from keras.preprocessing.image import ImageDataGenerator\n",
    "from keras.layers.normalization import BatchNormalization\n",
    "from keras.layers.convolutional import Conv2D\n",
    "from keras.layers.convolutional import MaxPooling2D\n",
    "from keras.layers.core import Activation\n",
    "from keras.layers.core import Flatten\n",
    "from keras.layers.core import Dropout\n",
    "from keras import backend as K\n",
    "import random\n",
    "import os\n",
    "\n",
    "# Any results you write to the current directory are saved as output."
   ]
  },
  {
   "cell_type": "markdown",
   "metadata": {},
   "source": [
    "# Defining the Model Architecture with minute changes to SmallVGGNet layers:"
   ]
  },
  {
   "cell_type": "code",
   "execution_count": 2,
   "metadata": {
    "_uuid": "fc67a7d3cd5dc96df146f5e8b688ede1381ea078"
   },
   "outputs": [],
   "source": [
    "# referred https://www.kaggle.com/justdvnsh/v2-plant-seedling-classification \n",
    "\n",
    "class SmallVGGNet:\n",
    "    @staticmethod\n",
    "    def build(width, height, depth, classes):\n",
    "        model = Sequential()\n",
    "        model.add(Conv2D(32, (3,3), activation = 'relu', input_shape = (width, height, 3)))\n",
    "        model.add(Conv2D(32, (3,3), activation = 'relu'))\n",
    "        model.add(Conv2D(32, (3,3), activation = 'relu'))\n",
    "        model.add(MaxPooling2D(pool_size = (2,2))) \n",
    "        model.add(Dropout(0.3))\n",
    "\n",
    "        model.add(Conv2D(64, (3,3), activation ='relu'))\n",
    "        model.add(Conv2D(64, (3,3), activation ='relu'))\n",
    "        model.add(Conv2D(64, (3,3), activation ='relu'))\n",
    "        model.add(MaxPooling2D(pool_size = (2,2)))\n",
    "        model.add(Dropout(0.3))\n",
    "\n",
    "        model.add(Conv2D(128, (3,3), activation ='relu'))\n",
    "        model.add(Conv2D(128, (3,3), activation ='relu'))\n",
    "        model.add(Conv2D(128, (3,3), activation ='relu'))\n",
    "        model.add(MaxPooling2D(pool_size = (2,2)))\n",
    "        model.add(Dropout(0.3))\n",
    "\n",
    "        \n",
    "        model.add(Dense(256, activation = \"relu\"))\n",
    "        model.add(Flatten())\n",
    "        model.add(Dropout(0.3))\n",
    "        model.add(Dense(12, activation = \"softmax\"))\n",
    "       \n",
    "    \n",
    "        # return the constructed network architecture\n",
    "        return model"
   ]
  },
  {
   "cell_type": "markdown",
   "metadata": {},
   "source": [
    "# All the Images and their respective Labels are being saved into 2 separate arrays:"
   ]
  },
  {
   "cell_type": "code",
   "execution_count": 3,
   "metadata": {
    "_uuid": "ba2d2f1682e6de1f1038905128f1a356d509167b"
   },
   "outputs": [],
   "source": [
    "data = []\n",
    "labels = []\n",
    "\n",
    "for path, _, files in os.walk('../input/nonsegmentedv2'):\n",
    "    imagesPaths =  sorted([image for image in files])\n",
    "    #print(imagesPaths)\n",
    "    for imagePath in imagesPaths:\n",
    "        image = cv2.imread('../input/nonsegmentedv2/'+ path.split('/')[3] + '/' + imagePath)\n",
    "        image = cv2.resize(image, (96,96))\n",
    "        data.append(image)\n",
    "        labels.append(path.split('/')[3])\n",
    "        \n"
   ]
  },
  {
   "cell_type": "markdown",
   "metadata": {},
   "source": [
    "### Converting arrays into Numpy arrays : "
   ]
  },
  {
   "cell_type": "code",
   "execution_count": 4,
   "metadata": {
    "_uuid": "98acad4fbaa43ec43024a9c1ccab74d73b7dbf6b"
   },
   "outputs": [],
   "source": [
    "data = np.array(data, dtype='float32')\n",
    "labels = np.array(labels)"
   ]
  },
  {
   "cell_type": "markdown",
   "metadata": {},
   "source": [
    "# Splitting of Train and Test data in 3:1 ratio : "
   ]
  },
  {
   "cell_type": "code",
   "execution_count": 5,
   "metadata": {
    "_uuid": "9dd6db5835869ed5595498c6f165c52b5909e2b9"
   },
   "outputs": [],
   "source": [
    "# partition the data into training and testing splits using 75% of\n",
    "# the data for training and the remaining 25% for testing\n",
    "(trainX, testX, trainY, testY) = train_test_split(data,labels, test_size=0.25, random_state=42)"
   ]
  },
  {
   "cell_type": "code",
   "execution_count": 6,
   "metadata": {
    "_uuid": "3a24fa7573e1a1304b70f59efda0e1aae872cb49"
   },
   "outputs": [],
   "source": [
    "## Here We are just doing the one-hot encoding for the labels.\n",
    "lb = LabelBinarizer()\n",
    "trainY = lb.fit_transform(trainY)\n",
    "testY = lb.transform(testY)"
   ]
  },
  {
   "cell_type": "markdown",
   "metadata": {},
   "source": [
    "### Setting up the ImageDataGenerator :"
   ]
  },
  {
   "cell_type": "code",
   "execution_count": 7,
   "metadata": {
    "_uuid": "bed1a660df41fd77901261c924dc3900464e959f"
   },
   "outputs": [
    {
     "name": "stdout",
     "output_type": "stream",
     "text": [
      "WARNING:tensorflow:From /opt/conda/lib/python3.6/site-packages/tensorflow/python/framework/op_def_library.py:263: colocate_with (from tensorflow.python.framework.ops) is deprecated and will be removed in a future version.\n",
      "Instructions for updating:\n",
      "Colocations handled automatically by placer.\n",
      "WARNING:tensorflow:From /opt/conda/lib/python3.6/site-packages/keras/backend/tensorflow_backend.py:3445: calling dropout (from tensorflow.python.ops.nn_ops) with keep_prob is deprecated and will be removed in a future version.\n",
      "Instructions for updating:\n",
      "Please use `rate` instead of `keep_prob`. Rate should be set to `rate = 1 - keep_prob`.\n"
     ]
    }
   ],
   "source": [
    "# construct the image generator for data augmentation\n",
    "# construct the image generator for data augmentation\n",
    "aug = ImageDataGenerator(rotation_range=30, width_shift_range=0.1,\n",
    "                        height_shift_range=0.1, shear_range=0.2, zoom_range=0.2,\n",
    "                        horizontal_flip=True, fill_mode=\"nearest\")\n",
    " \n",
    "\"\"\"\n",
    "Image augmentation allows us to construct “additional” training data from our existing training data by randomly rotating, shifting, shearing, zooming, and flipping.\n",
    "\n",
    "Data augmentation is often a critical step to:\n",
    "\n",
    "1) Avoiding overfitting\n",
    "2) Ensuring your model generalizes well\n",
    "\"\"\"\n",
    "    \n",
    "# initialize our VGG-like Convolutional Neural Network\n",
    "model = SmallVGGNet.build(width=96, height=96, depth=3,classes=len(lb.classes_))"
   ]
  },
  {
   "cell_type": "markdown",
   "metadata": {},
   "source": [
    "# Training the Model :"
   ]
  },
  {
   "cell_type": "code",
   "execution_count": 8,
   "metadata": {
    "_uuid": "fdd9151647e3d88daaab182f1c5ffbe2f4e6c7b1",
    "scrolled": false
   },
   "outputs": [
    {
     "name": "stdout",
     "output_type": "stream",
     "text": [
      "[INFO] training network...\n",
      "WARNING:tensorflow:From /opt/conda/lib/python3.6/site-packages/tensorflow/python/ops/math_ops.py:3066: to_int32 (from tensorflow.python.ops.math_ops) is deprecated and will be removed in a future version.\n",
      "Instructions for updating:\n",
      "Use tf.cast instead.\n",
      "Epoch 1/100\n",
      "129/129 [==============================] - 270s 2s/step - loss: 2.5027 - acc: 0.1238 - val_loss: 2.4354 - val_acc: 0.1430\n",
      "Epoch 2/100\n",
      "129/129 [==============================] - 264s 2s/step - loss: 2.3718 - acc: 0.1717 - val_loss: 2.0977 - val_acc: 0.2910\n",
      "Epoch 3/100\n",
      "129/129 [==============================] - 265s 2s/step - loss: 1.9340 - acc: 0.3154 - val_loss: 1.7350 - val_acc: 0.4195\n",
      "Epoch 4/100\n",
      "129/129 [==============================] - 265s 2s/step - loss: 1.7312 - acc: 0.3892 - val_loss: 1.4821 - val_acc: 0.4801\n",
      "Epoch 5/100\n",
      "129/129 [==============================] - 270s 2s/step - loss: 1.5668 - acc: 0.4609 - val_loss: 1.3303 - val_acc: 0.5379\n",
      "Epoch 6/100\n",
      "129/129 [==============================] - 274s 2s/step - loss: 1.4186 - acc: 0.5096 - val_loss: 1.2397 - val_acc: 0.5913\n",
      "Epoch 7/100\n",
      "129/129 [==============================] - 278s 2s/step - loss: 1.3020 - acc: 0.5500 - val_loss: 1.0960 - val_acc: 0.6534\n",
      "Epoch 8/100\n",
      "129/129 [==============================] - 278s 2s/step - loss: 1.2499 - acc: 0.5734 - val_loss: 1.1527 - val_acc: 0.6238\n",
      "Epoch 9/100\n",
      "129/129 [==============================] - 285s 2s/step - loss: 1.1692 - acc: 0.6030 - val_loss: 1.0541 - val_acc: 0.6671\n",
      "Epoch 10/100\n",
      "129/129 [==============================] - 281s 2s/step - loss: 1.1597 - acc: 0.6063 - val_loss: 1.0292 - val_acc: 0.6715\n",
      "Epoch 11/100\n",
      "129/129 [==============================] - 284s 2s/step - loss: 1.0782 - acc: 0.6354 - val_loss: 1.0137 - val_acc: 0.6715\n",
      "Epoch 12/100\n",
      "129/129 [==============================] - 257s 2s/step - loss: 1.0769 - acc: 0.6394 - val_loss: 1.0221 - val_acc: 0.6686\n",
      "Epoch 13/100\n",
      "129/129 [==============================] - 256s 2s/step - loss: 1.0159 - acc: 0.6594 - val_loss: 0.9286 - val_acc: 0.7018\n",
      "Epoch 14/100\n",
      "129/129 [==============================] - 259s 2s/step - loss: 1.0125 - acc: 0.6701 - val_loss: 0.8720 - val_acc: 0.7227\n",
      "Epoch 15/100\n",
      "129/129 [==============================] - 263s 2s/step - loss: 0.9498 - acc: 0.6661 - val_loss: 0.8657 - val_acc: 0.7069\n",
      "Epoch 16/100\n",
      "129/129 [==============================] - 265s 2s/step - loss: 0.9035 - acc: 0.6936 - val_loss: 1.0585 - val_acc: 0.6505\n",
      "Epoch 17/100\n",
      "129/129 [==============================] - 259s 2s/step - loss: 0.9083 - acc: 0.6909 - val_loss: 0.9757 - val_acc: 0.6664\n",
      "Epoch 18/100\n",
      "129/129 [==============================] - 258s 2s/step - loss: 0.8415 - acc: 0.7119 - val_loss: 0.7389 - val_acc: 0.7690\n",
      "Epoch 19/100\n",
      "129/129 [==============================] - 254s 2s/step - loss: 0.8437 - acc: 0.7199 - val_loss: 0.8024 - val_acc: 0.7386\n",
      "Epoch 20/100\n",
      "129/129 [==============================] - 264s 2s/step - loss: 0.8063 - acc: 0.7327 - val_loss: 0.6904 - val_acc: 0.7769\n",
      "Epoch 21/100\n",
      "129/129 [==============================] - 271s 2s/step - loss: 0.7982 - acc: 0.7220 - val_loss: 0.6952 - val_acc: 0.7747\n",
      "Epoch 22/100\n",
      "129/129 [==============================] - 275s 2s/step - loss: 0.7829 - acc: 0.7409 - val_loss: 0.6676 - val_acc: 0.7711\n",
      "Epoch 23/100\n",
      "129/129 [==============================] - 273s 2s/step - loss: 0.7323 - acc: 0.7505 - val_loss: 0.7011 - val_acc: 0.7726\n",
      "Epoch 24/100\n",
      "129/129 [==============================] - 271s 2s/step - loss: 0.6829 - acc: 0.7740 - val_loss: 0.6313 - val_acc: 0.7892\n",
      "Epoch 25/100\n",
      "129/129 [==============================] - 273s 2s/step - loss: 0.6483 - acc: 0.7843 - val_loss: 0.6394 - val_acc: 0.7884\n",
      "Epoch 26/100\n",
      "129/129 [==============================] - 271s 2s/step - loss: 0.6339 - acc: 0.7844 - val_loss: 0.8364 - val_acc: 0.7170\n",
      "Epoch 27/100\n",
      "129/129 [==============================] - 275s 2s/step - loss: 0.6613 - acc: 0.7818 - val_loss: 0.5741 - val_acc: 0.8072\n",
      "Epoch 28/100\n",
      "129/129 [==============================] - 276s 2s/step - loss: 0.6126 - acc: 0.7831 - val_loss: 0.7494 - val_acc: 0.7437\n",
      "Epoch 29/100\n",
      "129/129 [==============================] - 275s 2s/step - loss: 0.5648 - acc: 0.8125 - val_loss: 0.7500 - val_acc: 0.7394\n",
      "Epoch 30/100\n",
      "129/129 [==============================] - 273s 2s/step - loss: 0.5665 - acc: 0.8049 - val_loss: 0.5889 - val_acc: 0.8116\n",
      "Epoch 31/100\n",
      "129/129 [==============================] - 275s 2s/step - loss: 0.5508 - acc: 0.8074 - val_loss: 0.6314 - val_acc: 0.8029\n",
      "Epoch 32/100\n",
      "129/129 [==============================] - 275s 2s/step - loss: 0.5500 - acc: 0.8096 - val_loss: 0.5708 - val_acc: 0.8101\n",
      "Epoch 33/100\n",
      "129/129 [==============================] - 272s 2s/step - loss: 0.5379 - acc: 0.8134 - val_loss: 0.6257 - val_acc: 0.7957\n",
      "Epoch 34/100\n",
      "129/129 [==============================] - 272s 2s/step - loss: 0.4991 - acc: 0.8306 - val_loss: 0.4324 - val_acc: 0.8621\n",
      "Epoch 35/100\n",
      "129/129 [==============================] - 271s 2s/step - loss: 0.4998 - acc: 0.8243 - val_loss: 0.6054 - val_acc: 0.7812\n",
      "Epoch 36/100\n",
      "129/129 [==============================] - 272s 2s/step - loss: 0.5022 - acc: 0.8256 - val_loss: 0.5398 - val_acc: 0.8181\n",
      "Epoch 37/100\n",
      "129/129 [==============================] - 277s 2s/step - loss: 0.4676 - acc: 0.8392 - val_loss: 0.5640 - val_acc: 0.8123\n",
      "Epoch 38/100\n",
      "129/129 [==============================] - 277s 2s/step - loss: 0.4577 - acc: 0.8437 - val_loss: 0.5866 - val_acc: 0.7986\n",
      "Epoch 39/100\n",
      "129/129 [==============================] - 270s 2s/step - loss: 0.4405 - acc: 0.8496 - val_loss: 0.4322 - val_acc: 0.8426\n",
      "Epoch 40/100\n",
      "129/129 [==============================] - 262s 2s/step - loss: 0.4346 - acc: 0.8475 - val_loss: 0.4535 - val_acc: 0.8448\n",
      "Epoch 41/100\n",
      "129/129 [==============================] - 258s 2s/step - loss: 0.4288 - acc: 0.8549 - val_loss: 0.4574 - val_acc: 0.8440\n",
      "Epoch 42/100\n",
      "129/129 [==============================] - 259s 2s/step - loss: 0.4455 - acc: 0.8435 - val_loss: 0.4238 - val_acc: 0.8556\n",
      "Epoch 43/100\n",
      "129/129 [==============================] - 257s 2s/step - loss: 0.4054 - acc: 0.8525 - val_loss: 0.8043 - val_acc: 0.7357\n",
      "Epoch 44/100\n",
      "129/129 [==============================] - 259s 2s/step - loss: 0.4282 - acc: 0.8502 - val_loss: 0.5430 - val_acc: 0.7993\n",
      "Epoch 45/100\n",
      "129/129 [==============================] - 260s 2s/step - loss: 0.3832 - acc: 0.8635 - val_loss: 0.4495 - val_acc: 0.8455\n",
      "Epoch 46/100\n",
      "118/129 [==========================>...] - ETA: 20s - loss: 0.4015 - acc: 0.8581"
     ]
    }
   ],
   "source": [
    "# initialize our initial learning rate, # of epochs to train for,\n",
    "# and batch size\n",
    "\n",
    "EPOCHS = 100\n",
    "BS = 32\n",
    "                                                     \n",
    "# initialize the model and optimizer \n",
    "print(\"[INFO] training network...\")\n",
    "\n",
    "model.compile(Adam(lr=0.0001), loss='categorical_crossentropy', \n",
    "              metrics=['accuracy'])\n",
    "\n",
    "# train the network\n",
    "h = model.fit_generator(aug.flow(trainX, trainY, batch_size=BS),\n",
    "                                validation_data=(testX, testY), \n",
    "                                steps_per_epoch=len(trainX) // BS,\n",
    "                                epochs=EPOCHS, )"
   ]
  },
  {
   "cell_type": "markdown",
   "metadata": {
    "_uuid": "83a2bb6442f2664ea8cc2f9ede559435032d25b6"
   },
   "source": [
    "#### As we can see here , we got a 86% accuracy.\n"
   ]
  },
  {
   "cell_type": "markdown",
   "metadata": {},
   "source": [
    "# Printing Classification Report and Plots for visualizing Train_loss, Val_loss, Train_acc, Val_acc :"
   ]
  },
  {
   "cell_type": "code",
   "execution_count": 9,
   "metadata": {
    "_uuid": "ed5b44504eecd9b7b1e373fe44098b933db386c8"
   },
   "outputs": [
    {
     "name": "stdout",
     "output_type": "stream",
     "text": [
      "[INFO] evaluating network...\n",
      "                           precision    recall  f1-score   support\n",
      "\n",
      "              Black-grass       0.57      0.75      0.65        88\n",
      "                 Charlock       0.73      0.96      0.83       114\n",
      "                 Cleavers       0.95      0.54      0.69        78\n",
      "         Common Chickweed       0.94      0.96      0.95       173\n",
      "             Common wheat       0.88      0.84      0.86        68\n",
      "                  Fat Hen       0.96      0.97      0.96       155\n",
      "         Loose Silky-bent       0.87      0.72      0.79       179\n",
      "                    Maize       0.87      0.97      0.91        61\n",
      "        Scentless Mayweed       0.97      0.87      0.92       149\n",
      "         Shepherd’s Purse       0.85      0.95      0.90        56\n",
      "Small-flowered Cranesbill       0.97      0.98      0.98       158\n",
      "               Sugar beet       0.91      0.92      0.91       106\n",
      "\n",
      "                micro avg       0.88      0.88      0.88      1385\n",
      "                macro avg       0.87      0.87      0.86      1385\n",
      "             weighted avg       0.89      0.88      0.87      1385\n",
      "\n"
     ]
    },
    {
     "data": {
      "text/plain": [
       "<matplotlib.legend.Legend at 0x7f1c4225c940>"
      ]
     },
     "execution_count": 9,
     "metadata": {},
     "output_type": "execute_result"
    },
    {
     "data": {
      "image/png": "[encoded data removed]",
      "text/plain": [
       "<Figure size 432x288 with 1 Axes>"
      ]
     },
     "metadata": {},
     "output_type": "display_data"
    }
   ],
   "source": [
    "# evaluate the network\n",
    "print(\"[INFO] evaluating network...\")\n",
    "predictions = model.predict(testX, batch_size=32)\n",
    "print(classification_report(testY.argmax(axis=1),\n",
    "                            predictions.argmax(axis=1), target_names=lb.classes_))\n",
    " \n",
    "# plot the training loss and accuracy\n",
    "N = np.arange(0, EPOCHS)\n",
    "plt.figure()\n",
    "plt.plot(N, h.history[\"loss\"], label=\"train_loss\")\n",
    "plt.plot(N, h.history[\"val_loss\"], label=\"val_loss\")\n",
    "plt.plot(N, h.history[\"acc\"], label=\"train_acc\")\n",
    "plt.plot(N, h.history[\"val_acc\"], label=\"val_acc\")\n",
    "plt.title(\"Training Loss and Accuracy (SmallVGGNet)\")\n",
    "plt.xlabel(\"Epoch #\")\n",
    "plt.ylabel(\"Loss/Accuracy\")\n",
    "plt.legend()"
   ]
  },
  {
   "cell_type": "markdown",
   "metadata": {},
   "source": [
    "Importing Packages required for Saving and Loading the Trained model : "
   ]
  },
  {
   "cell_type": "code",
   "execution_count": 10,
   "metadata": {
    "_uuid": "22fa57a90159aa2d46fb3c88f235a1139f57174a"
   },
   "outputs": [],
   "source": [
    "from keras.models import model_from_json\n",
    "import json"
   ]
  },
  {
   "cell_type": "markdown",
   "metadata": {},
   "source": [
    "# Saving the Model :"
   ]
  },
  {
   "cell_type": "code",
   "execution_count": 11,
   "metadata": {},
   "outputs": [
    {
     "name": "stdout",
     "output_type": "stream",
     "text": [
      "Saved model\n"
     ]
    }
   ],
   "source": [
    "model_json = model.to_json()\n",
    "with open(\"model.json\",\"w\") as json_file:\n",
    "    json_file.write(model_json)\n",
    "model.save_weights(\"amodel.h5\")\n",
    "print(\"Saved model\")"
   ]
  },
  {
   "cell_type": "code",
   "execution_count": 12,
   "metadata": {},
   "outputs": [
    {
     "name": "stdout",
     "output_type": "stream",
     "text": [
      "__notebook__.ipynb  __output__.json  amodel.h5\tmodel.json\r\n"
     ]
    }
   ],
   "source": [
    "!ls"
   ]
  },
  {
   "cell_type": "markdown",
   "metadata": {},
   "source": [
    "# Loading the Model :"
   ]
  },
  {
   "cell_type": "code",
   "execution_count": 13,
   "metadata": {},
   "outputs": [
    {
     "name": "stdout",
     "output_type": "stream",
     "text": [
      "Loaded model\n"
     ]
    }
   ],
   "source": [
    "#loading saved model\n",
    "\n",
    "json_file = open('model.json','r')\n",
    "loaded_model_json = json_file.read()\n",
    "json_file.close()\n",
    "loaded_model = model_from_json(loaded_model_json)\n",
    "#load weights into new model\n",
    "loaded_model.load_weights(\"amodel.h5\")\n",
    "print(\"Loaded model\")"
   ]
  },
  {
   "cell_type": "markdown",
   "metadata": {},
   "source": [
    "Setting the Optimizer for the loaded model :"
   ]
  },
  {
   "cell_type": "code",
   "execution_count": 14,
   "metadata": {},
   "outputs": [],
   "source": [
    "#predictiong using loaded model\n",
    "loaded_model.compile(Adam(lr=0.0001), loss='categorical_crossentropy', \n",
    "              metrics=['accuracy'])"
   ]
  },
  {
   "cell_type": "markdown",
   "metadata": {},
   "source": [
    "# Predicting the Plant Specie of a Sample Input Image :"
   ]
  },
  {
   "cell_type": "code",
   "execution_count": 15,
   "metadata": {},
   "outputs": [
    {
     "name": "stdout",
     "output_type": "stream",
     "text": [
      "[[4.84164957e-08 4.10328234e-08 1.09887325e-04 4.54986361e-11\n",
      "  4.82851021e-07 9.99794424e-01 3.84440440e-12 1.62619278e-06\n",
      "  4.00670652e-09 1.02733418e-06 2.25693339e-06 9.02973625e-05]]\n"
     ]
    },
    {
     "data": {
      "text/plain": [
       "(1, 12)"
      ]
     },
     "execution_count": 15,
     "metadata": {},
     "output_type": "execute_result"
    }
   ],
   "source": [
    "image = cv2.imread('../input/nonsegmentedv2/Fat Hen/100.png')\n",
    "image = cv2.resize(image, (96,96))\n",
    "np_image = np.array(image)\n",
    "y = np.expand_dims(np_image, axis=0)\n",
    "pred = loaded_model.predict(y)\n",
    "print(pred)\n",
    "pred.shape"
   ]
  },
  {
   "cell_type": "code",
   "execution_count": 16,
   "metadata": {},
   "outputs": [
    {
     "name": "stdout",
     "output_type": "stream",
     "text": [
      "Fat Hen\n"
     ]
    }
   ],
   "source": [
    "y_pred_binary = pred.argmax(axis=1)\n",
    "\n",
    "\n",
    "if y_pred_binary==[0]:\n",
    "    print(\"Black-Grass\")\n",
    "elif y_pred_binary==[1]:\n",
    "    print(\"Charlock\") \n",
    "elif y_pred_binary==[2]:\n",
    "    print(\"Cleavers\") \n",
    "elif y_pred_binary==[3]:\n",
    "    print(\"Common Chickweed\") \n",
    "elif y_pred_binary==[4]:\n",
    "    print(\"Common Wheat\") \n",
    "elif y_pred_binary==[5]:\n",
    "    print(\"Fat Hen\") \n",
    "elif y_pred_binary==[6]:\n",
    "    print(\"Loose silky-bent\") \n",
    "elif y_pred_binary==[7]:\n",
    "    print(\"Maize\") \n",
    "elif y_pred_binary==[8]:\n",
    "    print(\"Scentless Mayweed\") \n",
    "elif y_pred_binary==[9]:\n",
    "    print(\"Shepherd's Purse\") \n",
    "elif y_pred_binary==[10]:\n",
    "    print(\"Small-flowered Cranesbill\") \n",
    "elif y_pred_binary==[11]:\n",
    "    print(\"Sugar beet\") \n"
   ]
  }
 ],
 "metadata": {
  "kernelspec": {
   "display_name": "Python 3",
   "language": "python",
   "name": "python3"
  },
  "language_info": {
   "codemirror_mode": {
    "name": "ipython",
    "version": 3
   },
   "file_extension": ".py",
   "mimetype": "text/x-python",
   "name": "python",
   "nbconvert_exporter": "python",
   "pygments_lexer": "ipython3",
   "version": "3.6.6"
  }
 },
 "nbformat": 4,
 "nbformat_minor": 1
}
